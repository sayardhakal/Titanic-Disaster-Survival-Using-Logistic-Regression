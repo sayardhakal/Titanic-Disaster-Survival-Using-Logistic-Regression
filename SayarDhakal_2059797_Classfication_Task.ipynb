{
 "cells": [
  {
   "cell_type": "markdown",
   "id": "2bb16960",
   "metadata": {},
   "source": [
    "<h1> 2059797_sayardhakal"
   ]
  },
  {
   "cell_type": "markdown",
   "id": "b81559d5",
   "metadata": {},
   "source": [
    "# Logistic Regression\n",
    "\n",
    "If we memorize Linear Regression, it is used to determine the value of a continuous dependent variable. Logistic Regression is generally used for classification purposes. Unlike Linear Regression, the dependent variable can take a limited number of values only i.e, the dependent variable is categorical. When the number of possible outcomes is only two it is called Binary Logistic Regression."
   ]
  },
  {
   "cell_type": "markdown",
   "id": "18a9c0d2",
   "metadata": {},
   "source": [
    "# Implementation on classification\n",
    "\n",
    "In Linear Regression, the output is the weighted sum of inputs. Logistic Regression is a generalized Linear Regression in the sense that we don't output the weighted sum of inputs directly, but we pass it through a function that can map any real value between 0 and 1.The activation function that is used is known as the sigmoid function. The value of the sigmoid function always lies between 0 and 1. The value is exactly 0.5 at X=0. We can use 0.5 as the probability threshold to determine the classes. If the probability is greater than 0.5, we can classify it as Class-1(Y=1) or else as Class-0(Y=0)."
   ]
  },
  {
   "cell_type": "markdown",
   "id": "000e2bb0",
   "metadata": {},
   "source": [
    "<h1>Titanic Disaster Survival Using Logistic Regression</h1>"
   ]
  },
  {
   "cell_type": "code",
   "execution_count": 72,
   "id": "d8355cd7",
   "metadata": {},
   "outputs": [],
   "source": [
    "#import libraries"
   ]
  },
  {
   "cell_type": "code",
   "execution_count": 1,
   "id": "3e80a38a",
   "metadata": {},
   "outputs": [],
   "source": [
    "import pandas as pd\n",
    "import numpy as np\n",
    "import seaborn as sns\n",
    "import matplotlib.pyplot as plt"
   ]
  },
  {
   "cell_type": "code",
   "execution_count": 3,
   "id": "7838be99",
   "metadata": {},
   "outputs": [],
   "source": [
    "titanic_data=pd.read_csv('C://Users/user/Desktop/AI coursework/titanic_train.csv')"
   ]
  },
  {
   "cell_type": "code",
   "execution_count": 4,
   "id": "17ff22e0",
   "metadata": {},
   "outputs": [
    {
     "data": {
      "text/plain": [
       "891"
      ]
     },
     "execution_count": 4,
     "metadata": {},
     "output_type": "execute_result"
    }
   ],
   "source": [
    "len(titanic_data)"
   ]
  },
  {
   "cell_type": "code",
   "execution_count": 5,
   "id": "ad264369",
   "metadata": {},
   "outputs": [
    {
     "data": {
      "text/html": [
       "<div>\n",
       "<style scoped>\n",
       "    .dataframe tbody tr th:only-of-type {\n",
       "        vertical-align: middle;\n",
       "    }\n",
       "\n",
       "    .dataframe tbody tr th {\n",
       "        vertical-align: top;\n",
       "    }\n",
       "\n",
       "    .dataframe thead th {\n",
       "        text-align: right;\n",
       "    }\n",
       "</style>\n",
       "<table border=\"1\" class=\"dataframe\">\n",
       "  <thead>\n",
       "    <tr style=\"text-align: right;\">\n",
       "      <th></th>\n",
       "      <th>PassengerId</th>\n",
       "      <th>Survived</th>\n",
       "      <th>Pclass</th>\n",
       "      <th>Name</th>\n",
       "      <th>Sex</th>\n",
       "      <th>Age</th>\n",
       "      <th>SibSp</th>\n",
       "      <th>Parch</th>\n",
       "      <th>Ticket</th>\n",
       "      <th>Fare</th>\n",
       "      <th>Cabin</th>\n",
       "      <th>Embarked</th>\n",
       "    </tr>\n",
       "  </thead>\n",
       "  <tbody>\n",
       "    <tr>\n",
       "      <th>0</th>\n",
       "      <td>1</td>\n",
       "      <td>0</td>\n",
       "      <td>3</td>\n",
       "      <td>Braund, Mr. Owen Harris</td>\n",
       "      <td>male</td>\n",
       "      <td>22.0</td>\n",
       "      <td>1</td>\n",
       "      <td>0</td>\n",
       "      <td>A/5 21171</td>\n",
       "      <td>7.2500</td>\n",
       "      <td>NaN</td>\n",
       "      <td>S</td>\n",
       "    </tr>\n",
       "    <tr>\n",
       "      <th>1</th>\n",
       "      <td>2</td>\n",
       "      <td>1</td>\n",
       "      <td>1</td>\n",
       "      <td>Cumings, Mrs. John Bradley (Florence Briggs Th...</td>\n",
       "      <td>female</td>\n",
       "      <td>38.0</td>\n",
       "      <td>1</td>\n",
       "      <td>0</td>\n",
       "      <td>PC 17599</td>\n",
       "      <td>71.2833</td>\n",
       "      <td>C85</td>\n",
       "      <td>C</td>\n",
       "    </tr>\n",
       "    <tr>\n",
       "      <th>2</th>\n",
       "      <td>3</td>\n",
       "      <td>1</td>\n",
       "      <td>3</td>\n",
       "      <td>Heikkinen, Miss. Laina</td>\n",
       "      <td>female</td>\n",
       "      <td>26.0</td>\n",
       "      <td>0</td>\n",
       "      <td>0</td>\n",
       "      <td>STON/O2. 3101282</td>\n",
       "      <td>7.9250</td>\n",
       "      <td>NaN</td>\n",
       "      <td>S</td>\n",
       "    </tr>\n",
       "    <tr>\n",
       "      <th>3</th>\n",
       "      <td>4</td>\n",
       "      <td>1</td>\n",
       "      <td>1</td>\n",
       "      <td>Futrelle, Mrs. Jacques Heath (Lily May Peel)</td>\n",
       "      <td>female</td>\n",
       "      <td>35.0</td>\n",
       "      <td>1</td>\n",
       "      <td>0</td>\n",
       "      <td>113803</td>\n",
       "      <td>53.1000</td>\n",
       "      <td>C123</td>\n",
       "      <td>S</td>\n",
       "    </tr>\n",
       "    <tr>\n",
       "      <th>4</th>\n",
       "      <td>5</td>\n",
       "      <td>0</td>\n",
       "      <td>3</td>\n",
       "      <td>Allen, Mr. William Henry</td>\n",
       "      <td>male</td>\n",
       "      <td>35.0</td>\n",
       "      <td>0</td>\n",
       "      <td>0</td>\n",
       "      <td>373450</td>\n",
       "      <td>8.0500</td>\n",
       "      <td>NaN</td>\n",
       "      <td>S</td>\n",
       "    </tr>\n",
       "  </tbody>\n",
       "</table>\n",
       "</div>"
      ],
      "text/plain": [
       "   PassengerId  Survived  Pclass  \\\n",
       "0            1         0       3   \n",
       "1            2         1       1   \n",
       "2            3         1       3   \n",
       "3            4         1       1   \n",
       "4            5         0       3   \n",
       "\n",
       "                                                Name     Sex   Age  SibSp  \\\n",
       "0                            Braund, Mr. Owen Harris    male  22.0      1   \n",
       "1  Cumings, Mrs. John Bradley (Florence Briggs Th...  female  38.0      1   \n",
       "2                             Heikkinen, Miss. Laina  female  26.0      0   \n",
       "3       Futrelle, Mrs. Jacques Heath (Lily May Peel)  female  35.0      1   \n",
       "4                           Allen, Mr. William Henry    male  35.0      0   \n",
       "\n",
       "   Parch            Ticket     Fare Cabin Embarked  \n",
       "0      0         A/5 21171   7.2500   NaN        S  \n",
       "1      0          PC 17599  71.2833   C85        C  \n",
       "2      0  STON/O2. 3101282   7.9250   NaN        S  \n",
       "3      0            113803  53.1000  C123        S  \n",
       "4      0            373450   8.0500   NaN        S  "
      ]
     },
     "execution_count": 5,
     "metadata": {},
     "output_type": "execute_result"
    }
   ],
   "source": [
    "titanic_data.head()"
   ]
  },
  {
   "cell_type": "code",
   "execution_count": 6,
   "id": "60eeae40",
   "metadata": {},
   "outputs": [
    {
     "data": {
      "text/plain": [
       "RangeIndex(start=0, stop=891, step=1)"
      ]
     },
     "execution_count": 6,
     "metadata": {},
     "output_type": "execute_result"
    }
   ],
   "source": [
    "titanic_data.index"
   ]
  },
  {
   "cell_type": "code",
   "execution_count": 7,
   "id": "9286ef8b",
   "metadata": {},
   "outputs": [
    {
     "data": {
      "text/plain": [
       "Index(['PassengerId', 'Survived', 'Pclass', 'Name', 'Sex', 'Age', 'SibSp',\n",
       "       'Parch', 'Ticket', 'Fare', 'Cabin', 'Embarked'],\n",
       "      dtype='object')"
      ]
     },
     "execution_count": 7,
     "metadata": {},
     "output_type": "execute_result"
    }
   ],
   "source": [
    "titanic_data.columns"
   ]
  },
  {
   "cell_type": "code",
   "execution_count": 8,
   "id": "6d646d6e",
   "metadata": {},
   "outputs": [
    {
     "name": "stdout",
     "output_type": "stream",
     "text": [
      "<class 'pandas.core.frame.DataFrame'>\n",
      "RangeIndex: 891 entries, 0 to 890\n",
      "Data columns (total 12 columns):\n",
      " #   Column       Non-Null Count  Dtype  \n",
      "---  ------       --------------  -----  \n",
      " 0   PassengerId  891 non-null    int64  \n",
      " 1   Survived     891 non-null    int64  \n",
      " 2   Pclass       891 non-null    int64  \n",
      " 3   Name         891 non-null    object \n",
      " 4   Sex          891 non-null    object \n",
      " 5   Age          714 non-null    float64\n",
      " 6   SibSp        891 non-null    int64  \n",
      " 7   Parch        891 non-null    int64  \n",
      " 8   Ticket       891 non-null    object \n",
      " 9   Fare         891 non-null    float64\n",
      " 10  Cabin        204 non-null    object \n",
      " 11  Embarked     889 non-null    object \n",
      "dtypes: float64(2), int64(5), object(5)\n",
      "memory usage: 83.7+ KB\n"
     ]
    }
   ],
   "source": [
    "titanic_data.info()"
   ]
  },
  {
   "cell_type": "code",
   "execution_count": 9,
   "id": "1c56fdc4",
   "metadata": {},
   "outputs": [
    {
     "data": {
      "text/plain": [
       "PassengerId      int64\n",
       "Survived         int64\n",
       "Pclass           int64\n",
       "Name            object\n",
       "Sex             object\n",
       "Age            float64\n",
       "SibSp            int64\n",
       "Parch            int64\n",
       "Ticket          object\n",
       "Fare           float64\n",
       "Cabin           object\n",
       "Embarked        object\n",
       "dtype: object"
      ]
     },
     "execution_count": 9,
     "metadata": {},
     "output_type": "execute_result"
    }
   ],
   "source": [
    "titanic_data.dtypes"
   ]
  },
  {
   "cell_type": "code",
   "execution_count": 10,
   "id": "5b4ccd8b",
   "metadata": {},
   "outputs": [
    {
     "data": {
      "text/html": [
       "<div>\n",
       "<style scoped>\n",
       "    .dataframe tbody tr th:only-of-type {\n",
       "        vertical-align: middle;\n",
       "    }\n",
       "\n",
       "    .dataframe tbody tr th {\n",
       "        vertical-align: top;\n",
       "    }\n",
       "\n",
       "    .dataframe thead th {\n",
       "        text-align: right;\n",
       "    }\n",
       "</style>\n",
       "<table border=\"1\" class=\"dataframe\">\n",
       "  <thead>\n",
       "    <tr style=\"text-align: right;\">\n",
       "      <th></th>\n",
       "      <th>PassengerId</th>\n",
       "      <th>Survived</th>\n",
       "      <th>Pclass</th>\n",
       "      <th>Age</th>\n",
       "      <th>SibSp</th>\n",
       "      <th>Parch</th>\n",
       "      <th>Fare</th>\n",
       "    </tr>\n",
       "  </thead>\n",
       "  <tbody>\n",
       "    <tr>\n",
       "      <th>count</th>\n",
       "      <td>891.000000</td>\n",
       "      <td>891.000000</td>\n",
       "      <td>891.000000</td>\n",
       "      <td>714.000000</td>\n",
       "      <td>891.000000</td>\n",
       "      <td>891.000000</td>\n",
       "      <td>891.000000</td>\n",
       "    </tr>\n",
       "    <tr>\n",
       "      <th>mean</th>\n",
       "      <td>446.000000</td>\n",
       "      <td>0.383838</td>\n",
       "      <td>2.308642</td>\n",
       "      <td>29.699118</td>\n",
       "      <td>0.523008</td>\n",
       "      <td>0.381594</td>\n",
       "      <td>32.204208</td>\n",
       "    </tr>\n",
       "    <tr>\n",
       "      <th>std</th>\n",
       "      <td>257.353842</td>\n",
       "      <td>0.486592</td>\n",
       "      <td>0.836071</td>\n",
       "      <td>14.526497</td>\n",
       "      <td>1.102743</td>\n",
       "      <td>0.806057</td>\n",
       "      <td>49.693429</td>\n",
       "    </tr>\n",
       "    <tr>\n",
       "      <th>min</th>\n",
       "      <td>1.000000</td>\n",
       "      <td>0.000000</td>\n",
       "      <td>1.000000</td>\n",
       "      <td>0.420000</td>\n",
       "      <td>0.000000</td>\n",
       "      <td>0.000000</td>\n",
       "      <td>0.000000</td>\n",
       "    </tr>\n",
       "    <tr>\n",
       "      <th>25%</th>\n",
       "      <td>223.500000</td>\n",
       "      <td>0.000000</td>\n",
       "      <td>2.000000</td>\n",
       "      <td>20.125000</td>\n",
       "      <td>0.000000</td>\n",
       "      <td>0.000000</td>\n",
       "      <td>7.910400</td>\n",
       "    </tr>\n",
       "    <tr>\n",
       "      <th>50%</th>\n",
       "      <td>446.000000</td>\n",
       "      <td>0.000000</td>\n",
       "      <td>3.000000</td>\n",
       "      <td>28.000000</td>\n",
       "      <td>0.000000</td>\n",
       "      <td>0.000000</td>\n",
       "      <td>14.454200</td>\n",
       "    </tr>\n",
       "    <tr>\n",
       "      <th>75%</th>\n",
       "      <td>668.500000</td>\n",
       "      <td>1.000000</td>\n",
       "      <td>3.000000</td>\n",
       "      <td>38.000000</td>\n",
       "      <td>1.000000</td>\n",
       "      <td>0.000000</td>\n",
       "      <td>31.000000</td>\n",
       "    </tr>\n",
       "    <tr>\n",
       "      <th>max</th>\n",
       "      <td>891.000000</td>\n",
       "      <td>1.000000</td>\n",
       "      <td>3.000000</td>\n",
       "      <td>80.000000</td>\n",
       "      <td>8.000000</td>\n",
       "      <td>6.000000</td>\n",
       "      <td>512.329200</td>\n",
       "    </tr>\n",
       "  </tbody>\n",
       "</table>\n",
       "</div>"
      ],
      "text/plain": [
       "       PassengerId    Survived      Pclass         Age       SibSp  \\\n",
       "count   891.000000  891.000000  891.000000  714.000000  891.000000   \n",
       "mean    446.000000    0.383838    2.308642   29.699118    0.523008   \n",
       "std     257.353842    0.486592    0.836071   14.526497    1.102743   \n",
       "min       1.000000    0.000000    1.000000    0.420000    0.000000   \n",
       "25%     223.500000    0.000000    2.000000   20.125000    0.000000   \n",
       "50%     446.000000    0.000000    3.000000   28.000000    0.000000   \n",
       "75%     668.500000    1.000000    3.000000   38.000000    1.000000   \n",
       "max     891.000000    1.000000    3.000000   80.000000    8.000000   \n",
       "\n",
       "            Parch        Fare  \n",
       "count  891.000000  891.000000  \n",
       "mean     0.381594   32.204208  \n",
       "std      0.806057   49.693429  \n",
       "min      0.000000    0.000000  \n",
       "25%      0.000000    7.910400  \n",
       "50%      0.000000   14.454200  \n",
       "75%      0.000000   31.000000  \n",
       "max      6.000000  512.329200  "
      ]
     },
     "execution_count": 10,
     "metadata": {},
     "output_type": "execute_result"
    }
   ],
   "source": [
    "titanic_data.describe()"
   ]
  },
  {
   "cell_type": "markdown",
   "id": "46812968",
   "metadata": {},
   "source": [
    "**Explaining Dataset**\n",
    "\n",
    "survival : Survival 0 = No, 1 = Yes <br>\n",
    "pclass : Ticket class 1 = 1st, 2 = 2nd, 3 = 3rd <br>\n",
    "sex : Sex <br>\n",
    "Age : Age in years <br>\n",
    "sibsp : Number of siblings / spouses aboard the Titanic \n",
    "<br>parch # of parents / children aboard the Titanic <br>\n",
    "ticket : Ticket number fare Passenger fare cabin Cabin number <br>\n",
    "embarked : Port of Embarkation C = Cherbourg, Q = Queenstown, S = Southampton <br>\n",
    "\n",
    "\n"
   ]
  },
  {
   "cell_type": "markdown",
   "id": "46a24526",
   "metadata": {},
   "source": [
    "<h1>Data Analysis"
   ]
  },
  {
   "cell_type": "markdown",
   "id": "c6de91e9",
   "metadata": {},
   "source": [
    "**Import Seaborn for visually analysing the data**"
   ]
  },
  {
   "cell_type": "markdown",
   "id": "a5e8a42e",
   "metadata": {},
   "source": [
    "**Finding  how many survived vs Died using countplot method of seaboarn**"
   ]
  },
  {
   "cell_type": "code",
   "execution_count": 12,
   "id": "02a20b35",
   "metadata": {},
   "outputs": [
    {
     "data": {
      "text/plain": [
       "<AxesSubplot:xlabel='Survived', ylabel='count'>"
      ]
     },
     "execution_count": 12,
     "metadata": {},
     "output_type": "execute_result"
    },
    {
     "data": {
      "image/png": "[encoded data removed]",
      "text/plain": [
       "<Figure size 432x288 with 1 Axes>"
      ]
     },
     "metadata": {
      "needs_background": "light"
     },
     "output_type": "display_data"
    }
   ],
   "source": [
    "sns.countplot(x='Survived',data=titanic_data)"
   ]
  },
  {
   "cell_type": "markdown",
   "id": "37cf3d4f",
   "metadata": {},
   "source": [
    "**Male vs Female Survival**"
   ]
  },
  {
   "cell_type": "code",
   "execution_count": 13,
   "id": "f82fe1d6",
   "metadata": {},
   "outputs": [],
   "source": [
    "#Male vs Female Survived?"
   ]
  },
  {
   "cell_type": "code",
   "execution_count": 14,
   "id": "fc60ccbb",
   "metadata": {},
   "outputs": [
    {
     "data": {
      "text/plain": [
       "<AxesSubplot:xlabel='Survived', ylabel='count'>"
      ]
     },
     "execution_count": 14,
     "metadata": {},
     "output_type": "execute_result"
    },
    {
     "data": {
      "image/png": "[encoded data removed]",
      "text/plain": [
       "<Figure size 432x288 with 1 Axes>"
      ]
     },
     "metadata": {
      "needs_background": "light"
     },
     "output_type": "display_data"
    }
   ],
   "source": [
    "sns.countplot(x='Survived',data=titanic_data,hue='Sex')"
   ]
  },
  {
   "cell_type": "markdown",
   "id": "e39dfd1e",
   "metadata": {},
   "source": [
    "**See age group of passengeres travelled **<br>\n",
    "Note: We will use displot method to see the histogram. However some records does not have age hence the method will throw an error. In order to avoid that we will use dropna method to eliminate null values from graph"
   ]
  },
  {
   "cell_type": "code",
   "execution_count": 15,
   "id": "6d235be9",
   "metadata": {},
   "outputs": [],
   "source": [
    "#Checking for null"
   ]
  },
  {
   "cell_type": "code",
   "execution_count": 16,
   "id": "2bafbc11",
   "metadata": {},
   "outputs": [
    {
     "data": {
      "text/html": [
       "<div>\n",
       "<style scoped>\n",
       "    .dataframe tbody tr th:only-of-type {\n",
       "        vertical-align: middle;\n",
       "    }\n",
       "\n",
       "    .dataframe tbody tr th {\n",
       "        vertical-align: top;\n",
       "    }\n",
       "\n",
       "    .dataframe thead th {\n",
       "        text-align: right;\n",
       "    }\n",
       "</style>\n",
       "<table border=\"1\" class=\"dataframe\">\n",
       "  <thead>\n",
       "    <tr style=\"text-align: right;\">\n",
       "      <th></th>\n",
       "      <th>PassengerId</th>\n",
       "      <th>Survived</th>\n",
       "      <th>Pclass</th>\n",
       "      <th>Name</th>\n",
       "      <th>Sex</th>\n",
       "      <th>Age</th>\n",
       "      <th>SibSp</th>\n",
       "      <th>Parch</th>\n",
       "      <th>Ticket</th>\n",
       "      <th>Fare</th>\n",
       "      <th>Cabin</th>\n",
       "      <th>Embarked</th>\n",
       "    </tr>\n",
       "  </thead>\n",
       "  <tbody>\n",
       "    <tr>\n",
       "      <th>0</th>\n",
       "      <td>False</td>\n",
       "      <td>False</td>\n",
       "      <td>False</td>\n",
       "      <td>False</td>\n",
       "      <td>False</td>\n",
       "      <td>False</td>\n",
       "      <td>False</td>\n",
       "      <td>False</td>\n",
       "      <td>False</td>\n",
       "      <td>False</td>\n",
       "      <td>True</td>\n",
       "      <td>False</td>\n",
       "    </tr>\n",
       "    <tr>\n",
       "      <th>1</th>\n",
       "      <td>False</td>\n",
       "      <td>False</td>\n",
       "      <td>False</td>\n",
       "      <td>False</td>\n",
       "      <td>False</td>\n",
       "      <td>False</td>\n",
       "      <td>False</td>\n",
       "      <td>False</td>\n",
       "      <td>False</td>\n",
       "      <td>False</td>\n",
       "      <td>False</td>\n",
       "      <td>False</td>\n",
       "    </tr>\n",
       "    <tr>\n",
       "      <th>2</th>\n",
       "      <td>False</td>\n",
       "      <td>False</td>\n",
       "      <td>False</td>\n",
       "      <td>False</td>\n",
       "      <td>False</td>\n",
       "      <td>False</td>\n",
       "      <td>False</td>\n",
       "      <td>False</td>\n",
       "      <td>False</td>\n",
       "      <td>False</td>\n",
       "      <td>True</td>\n",
       "      <td>False</td>\n",
       "    </tr>\n",
       "    <tr>\n",
       "      <th>3</th>\n",
       "      <td>False</td>\n",
       "      <td>False</td>\n",
       "      <td>False</td>\n",
       "      <td>False</td>\n",
       "      <td>False</td>\n",
       "      <td>False</td>\n",
       "      <td>False</td>\n",
       "      <td>False</td>\n",
       "      <td>False</td>\n",
       "      <td>False</td>\n",
       "      <td>False</td>\n",
       "      <td>False</td>\n",
       "    </tr>\n",
       "    <tr>\n",
       "      <th>4</th>\n",
       "      <td>False</td>\n",
       "      <td>False</td>\n",
       "      <td>False</td>\n",
       "      <td>False</td>\n",
       "      <td>False</td>\n",
       "      <td>False</td>\n",
       "      <td>False</td>\n",
       "      <td>False</td>\n",
       "      <td>False</td>\n",
       "      <td>False</td>\n",
       "      <td>True</td>\n",
       "      <td>False</td>\n",
       "    </tr>\n",
       "    <tr>\n",
       "      <th>...</th>\n",
       "      <td>...</td>\n",
       "      <td>...</td>\n",
       "      <td>...</td>\n",
       "      <td>...</td>\n",
       "      <td>...</td>\n",
       "      <td>...</td>\n",
       "      <td>...</td>\n",
       "      <td>...</td>\n",
       "      <td>...</td>\n",
       "      <td>...</td>\n",
       "      <td>...</td>\n",
       "      <td>...</td>\n",
       "    </tr>\n",
       "    <tr>\n",
       "      <th>886</th>\n",
       "      <td>False</td>\n",
       "      <td>False</td>\n",
       "      <td>False</td>\n",
       "      <td>False</td>\n",
       "      <td>False</td>\n",
       "      <td>False</td>\n",
       "      <td>False</td>\n",
       "      <td>False</td>\n",
       "      <td>False</td>\n",
       "      <td>False</td>\n",
       "      <td>True</td>\n",
       "      <td>False</td>\n",
       "    </tr>\n",
       "    <tr>\n",
       "      <th>887</th>\n",
       "      <td>False</td>\n",
       "      <td>False</td>\n",
       "      <td>False</td>\n",
       "      <td>False</td>\n",
       "      <td>False</td>\n",
       "      <td>False</td>\n",
       "      <td>False</td>\n",
       "      <td>False</td>\n",
       "      <td>False</td>\n",
       "      <td>False</td>\n",
       "      <td>False</td>\n",
       "      <td>False</td>\n",
       "    </tr>\n",
       "    <tr>\n",
       "      <th>888</th>\n",
       "      <td>False</td>\n",
       "      <td>False</td>\n",
       "      <td>False</td>\n",
       "      <td>False</td>\n",
       "      <td>False</td>\n",
       "      <td>True</td>\n",
       "      <td>False</td>\n",
       "      <td>False</td>\n",
       "      <td>False</td>\n",
       "      <td>False</td>\n",
       "      <td>True</td>\n",
       "      <td>False</td>\n",
       "    </tr>\n",
       "    <tr>\n",
       "      <th>889</th>\n",
       "      <td>False</td>\n",
       "      <td>False</td>\n",
       "      <td>False</td>\n",
       "      <td>False</td>\n",
       "      <td>False</td>\n",
       "      <td>False</td>\n",
       "      <td>False</td>\n",
       "      <td>False</td>\n",
       "      <td>False</td>\n",
       "      <td>False</td>\n",
       "      <td>False</td>\n",
       "      <td>False</td>\n",
       "    </tr>\n",
       "    <tr>\n",
       "      <th>890</th>\n",
       "      <td>False</td>\n",
       "      <td>False</td>\n",
       "      <td>False</td>\n",
       "      <td>False</td>\n",
       "      <td>False</td>\n",
       "      <td>False</td>\n",
       "      <td>False</td>\n",
       "      <td>False</td>\n",
       "      <td>False</td>\n",
       "      <td>False</td>\n",
       "      <td>True</td>\n",
       "      <td>False</td>\n",
       "    </tr>\n",
       "  </tbody>\n",
       "</table>\n",
       "<p>891 rows × 12 columns</p>\n",
       "</div>"
      ],
      "text/plain": [
       "     PassengerId  Survived  Pclass   Name    Sex    Age  SibSp  Parch  Ticket  \\\n",
       "0          False     False   False  False  False  False  False  False   False   \n",
       "1          False     False   False  False  False  False  False  False   False   \n",
       "2          False     False   False  False  False  False  False  False   False   \n",
       "3          False     False   False  False  False  False  False  False   False   \n",
       "4          False     False   False  False  False  False  False  False   False   \n",
       "..           ...       ...     ...    ...    ...    ...    ...    ...     ...   \n",
       "886        False     False   False  False  False  False  False  False   False   \n",
       "887        False     False   False  False  False  False  False  False   False   \n",
       "888        False     False   False  False  False   True  False  False   False   \n",
       "889        False     False   False  False  False  False  False  False   False   \n",
       "890        False     False   False  False  False  False  False  False   False   \n",
       "\n",
       "      Fare  Cabin  Embarked  \n",
       "0    False   True     False  \n",
       "1    False  False     False  \n",
       "2    False   True     False  \n",
       "3    False  False     False  \n",
       "4    False   True     False  \n",
       "..     ...    ...       ...  \n",
       "886  False   True     False  \n",
       "887  False  False     False  \n",
       "888  False   True     False  \n",
       "889  False  False     False  \n",
       "890  False   True     False  \n",
       "\n",
       "[891 rows x 12 columns]"
      ]
     },
     "execution_count": 16,
     "metadata": {},
     "output_type": "execute_result"
    }
   ],
   "source": [
    "titanic_data.isna()"
   ]
  },
  {
   "cell_type": "code",
   "execution_count": 18,
   "id": "eaacb727",
   "metadata": {},
   "outputs": [],
   "source": [
    "#Checking how many values are null"
   ]
  },
  {
   "cell_type": "code",
   "execution_count": 19,
   "id": "5a586fe3",
   "metadata": {},
   "outputs": [
    {
     "data": {
      "text/plain": [
       "PassengerId      0\n",
       "Survived         0\n",
       "Pclass           0\n",
       "Name             0\n",
       "Sex              0\n",
       "Age            177\n",
       "SibSp            0\n",
       "Parch            0\n",
       "Ticket           0\n",
       "Fare             0\n",
       "Cabin          687\n",
       "Embarked         2\n",
       "dtype: int64"
      ]
     },
     "execution_count": 19,
     "metadata": {},
     "output_type": "execute_result"
    }
   ],
   "source": [
    "titanic_data.isna().sum()"
   ]
  },
  {
   "cell_type": "code",
   "execution_count": 20,
   "id": "e696e307",
   "metadata": {},
   "outputs": [],
   "source": [
    "#Visualizing null values"
   ]
  },
  {
   "cell_type": "code",
   "execution_count": 21,
   "id": "9437c08b",
   "metadata": {},
   "outputs": [
    {
     "data": {
      "text/plain": [
       "<AxesSubplot:>"
      ]
     },
     "execution_count": 21,
     "metadata": {},
     "output_type": "execute_result"
    },
    {
     "data": {
      "image/png": "[encoded data removed]",
      "text/plain": [
       "<Figure size 432x288 with 2 Axes>"
      ]
     },
     "metadata": {
      "needs_background": "light"
     },
     "output_type": "display_data"
    }
   ],
   "source": [
    "sns.heatmap(titanic_data.isna())"
   ]
  },
  {
   "cell_type": "code",
   "execution_count": 22,
   "id": "25343a6d",
   "metadata": {},
   "outputs": [],
   "source": [
    "#finding the % of null values in age column"
   ]
  },
  {
   "cell_type": "code",
   "execution_count": 23,
   "id": "fb24811f",
   "metadata": {},
   "outputs": [
    {
     "data": {
      "text/plain": [
       "19.865319865319865"
      ]
     },
     "execution_count": 23,
     "metadata": {},
     "output_type": "execute_result"
    }
   ],
   "source": [
    "(titanic_data['Age'].isna().sum()/len(titanic_data['Age']))*100"
   ]
  },
  {
   "cell_type": "code",
   "execution_count": 24,
   "id": "77a5d3a0",
   "metadata": {},
   "outputs": [],
   "source": [
    "#finding the % of null values in cabin column"
   ]
  },
  {
   "cell_type": "code",
   "execution_count": 25,
   "id": "83c82ee8",
   "metadata": {},
   "outputs": [
    {
     "data": {
      "text/plain": [
       "77.10437710437711"
      ]
     },
     "execution_count": 25,
     "metadata": {},
     "output_type": "execute_result"
    }
   ],
   "source": [
    "(titanic_data['Cabin'].isna().sum()/len(titanic_data['Cabin']))*100"
   ]
  },
  {
   "cell_type": "code",
   "execution_count": 26,
   "id": "1a8a8d8e",
   "metadata": {},
   "outputs": [],
   "source": [
    "#finding the distribution for the age column"
   ]
  },
  {
   "cell_type": "code",
   "execution_count": 27,
   "id": "baeb232e",
   "metadata": {},
   "outputs": [
    {
     "data": {
      "text/plain": [
       "<seaborn.axisgrid.FacetGrid at 0x1a53793bee0>"
      ]
     },
     "execution_count": 27,
     "metadata": {},
     "output_type": "execute_result"
    },
    {
     "data": {
      "image/png": "[encoded data removed]",
      "text/plain": [
       "<Figure size 360x360 with 1 Axes>"
      ]
     },
     "metadata": {
      "needs_background": "light"
     },
     "output_type": "display_data"
    }
   ],
   "source": [
    "sns.displot(x='Age',data=titanic_data)"
   ]
  },
  {
   "cell_type": "markdown",
   "id": "edff88f3",
   "metadata": {},
   "source": [
    "<h1>Data Cleaning"
   ]
  },
  {
   "cell_type": "markdown",
   "id": "82222fbb",
   "metadata": {},
   "source": [
    "**Filling the missing values**<br> we will fill the missing values for age. In order to fill missing values we use fillna method.<br> For now we will filling the missing age by taking average of all age "
   ]
  },
  {
   "cell_type": "code",
   "execution_count": 29,
   "id": "0fc2a456",
   "metadata": {},
   "outputs": [],
   "source": [
    "#filling age column"
   ]
  },
  {
   "cell_type": "code",
   "execution_count": 30,
   "id": "21e312e4",
   "metadata": {},
   "outputs": [],
   "source": [
    "titanic_data['Age'].fillna(titanic_data['Age'].mean(),inplace=True)"
   ]
  },
  {
   "cell_type": "markdown",
   "id": "867a29f7",
   "metadata": {},
   "source": [
    "**We can verify that no more null data exist** <br> we will examine data by isnull mehtod which will return nothing"
   ]
  },
  {
   "cell_type": "code",
   "execution_count": 31,
   "id": "059227c4",
   "metadata": {},
   "outputs": [],
   "source": [
    "#verifying null value"
   ]
  },
  {
   "cell_type": "code",
   "execution_count": 32,
   "id": "0ec68bec",
   "metadata": {},
   "outputs": [
    {
     "data": {
      "text/plain": [
       "0"
      ]
     },
     "execution_count": 32,
     "metadata": {},
     "output_type": "execute_result"
    }
   ],
   "source": [
    "titanic_data['Age'].isna().sum()"
   ]
  },
  {
   "cell_type": "markdown",
   "id": "753f9480",
   "metadata": {},
   "source": [
    "**Alternatively we will visualise the null value using heatmap**<br>\n",
    "we will use heatmap method by passing only records which are null. "
   ]
  },
  {
   "cell_type": "code",
   "execution_count": 33,
   "id": "696cfd26",
   "metadata": {},
   "outputs": [],
   "source": [
    "#visualizing null values"
   ]
  },
  {
   "cell_type": "code",
   "execution_count": 34,
   "id": "d5555309",
   "metadata": {},
   "outputs": [
    {
     "data": {
      "text/plain": [
       "<AxesSubplot:>"
      ]
     },
     "execution_count": 34,
     "metadata": {},
     "output_type": "execute_result"
    },
    {
     "data": {
      "image/png": "[encoded data removed]",
      "text/plain": [
       "<Figure size 432x288 with 2 Axes>"
      ]
     },
     "metadata": {
      "needs_background": "light"
     },
     "output_type": "display_data"
    }
   ],
   "source": [
    "sns.heatmap(titanic_data.isna())"
   ]
  },
  {
   "cell_type": "markdown",
   "id": "fb604952",
   "metadata": {},
   "source": [
    "**We can see cabin column has a number of null values, as such we can not use it for prediction. Hence we will drop it**"
   ]
  },
  {
   "cell_type": "code",
   "execution_count": 35,
   "id": "98902b71",
   "metadata": {},
   "outputs": [],
   "source": [
    "#Droping cabin column"
   ]
  },
  {
   "cell_type": "code",
   "execution_count": 36,
   "id": "ab872793",
   "metadata": {},
   "outputs": [],
   "source": [
    "titanic_data.drop('Cabin',axis=1,inplace=True)"
   ]
  },
  {
   "cell_type": "code",
   "execution_count": 37,
   "id": "a4065edc",
   "metadata": {},
   "outputs": [],
   "source": [
    "#seeing the contents of the data"
   ]
  },
  {
   "cell_type": "code",
   "execution_count": 38,
   "id": "50ae0132",
   "metadata": {},
   "outputs": [
    {
     "data": {
      "text/html": [
       "<div>\n",
       "<style scoped>\n",
       "    .dataframe tbody tr th:only-of-type {\n",
       "        vertical-align: middle;\n",
       "    }\n",
       "\n",
       "    .dataframe tbody tr th {\n",
       "        vertical-align: top;\n",
       "    }\n",
       "\n",
       "    .dataframe thead th {\n",
       "        text-align: right;\n",
       "    }\n",
       "</style>\n",
       "<table border=\"1\" class=\"dataframe\">\n",
       "  <thead>\n",
       "    <tr style=\"text-align: right;\">\n",
       "      <th></th>\n",
       "      <th>PassengerId</th>\n",
       "      <th>Survived</th>\n",
       "      <th>Pclass</th>\n",
       "      <th>Name</th>\n",
       "      <th>Sex</th>\n",
       "      <th>Age</th>\n",
       "      <th>SibSp</th>\n",
       "      <th>Parch</th>\n",
       "      <th>Ticket</th>\n",
       "      <th>Fare</th>\n",
       "      <th>Embarked</th>\n",
       "    </tr>\n",
       "  </thead>\n",
       "  <tbody>\n",
       "    <tr>\n",
       "      <th>0</th>\n",
       "      <td>1</td>\n",
       "      <td>0</td>\n",
       "      <td>3</td>\n",
       "      <td>Braund, Mr. Owen Harris</td>\n",
       "      <td>male</td>\n",
       "      <td>22.0</td>\n",
       "      <td>1</td>\n",
       "      <td>0</td>\n",
       "      <td>A/5 21171</td>\n",
       "      <td>7.2500</td>\n",
       "      <td>S</td>\n",
       "    </tr>\n",
       "    <tr>\n",
       "      <th>1</th>\n",
       "      <td>2</td>\n",
       "      <td>1</td>\n",
       "      <td>1</td>\n",
       "      <td>Cumings, Mrs. John Bradley (Florence Briggs Th...</td>\n",
       "      <td>female</td>\n",
       "      <td>38.0</td>\n",
       "      <td>1</td>\n",
       "      <td>0</td>\n",
       "      <td>PC 17599</td>\n",
       "      <td>71.2833</td>\n",
       "      <td>C</td>\n",
       "    </tr>\n",
       "    <tr>\n",
       "      <th>2</th>\n",
       "      <td>3</td>\n",
       "      <td>1</td>\n",
       "      <td>3</td>\n",
       "      <td>Heikkinen, Miss. Laina</td>\n",
       "      <td>female</td>\n",
       "      <td>26.0</td>\n",
       "      <td>0</td>\n",
       "      <td>0</td>\n",
       "      <td>STON/O2. 3101282</td>\n",
       "      <td>7.9250</td>\n",
       "      <td>S</td>\n",
       "    </tr>\n",
       "    <tr>\n",
       "      <th>3</th>\n",
       "      <td>4</td>\n",
       "      <td>1</td>\n",
       "      <td>1</td>\n",
       "      <td>Futrelle, Mrs. Jacques Heath (Lily May Peel)</td>\n",
       "      <td>female</td>\n",
       "      <td>35.0</td>\n",
       "      <td>1</td>\n",
       "      <td>0</td>\n",
       "      <td>113803</td>\n",
       "      <td>53.1000</td>\n",
       "      <td>S</td>\n",
       "    </tr>\n",
       "    <tr>\n",
       "      <th>4</th>\n",
       "      <td>5</td>\n",
       "      <td>0</td>\n",
       "      <td>3</td>\n",
       "      <td>Allen, Mr. William Henry</td>\n",
       "      <td>male</td>\n",
       "      <td>35.0</td>\n",
       "      <td>0</td>\n",
       "      <td>0</td>\n",
       "      <td>373450</td>\n",
       "      <td>8.0500</td>\n",
       "      <td>S</td>\n",
       "    </tr>\n",
       "  </tbody>\n",
       "</table>\n",
       "</div>"
      ],
      "text/plain": [
       "   PassengerId  Survived  Pclass  \\\n",
       "0            1         0       3   \n",
       "1            2         1       1   \n",
       "2            3         1       3   \n",
       "3            4         1       1   \n",
       "4            5         0       3   \n",
       "\n",
       "                                                Name     Sex   Age  SibSp  \\\n",
       "0                            Braund, Mr. Owen Harris    male  22.0      1   \n",
       "1  Cumings, Mrs. John Bradley (Florence Briggs Th...  female  38.0      1   \n",
       "2                             Heikkinen, Miss. Laina  female  26.0      0   \n",
       "3       Futrelle, Mrs. Jacques Heath (Lily May Peel)  female  35.0      1   \n",
       "4                           Allen, Mr. William Henry    male  35.0      0   \n",
       "\n",
       "   Parch            Ticket     Fare Embarked  \n",
       "0      0         A/5 21171   7.2500        S  \n",
       "1      0          PC 17599  71.2833        C  \n",
       "2      0  STON/O2. 3101282   7.9250        S  \n",
       "3      0            113803  53.1000        S  \n",
       "4      0            373450   8.0500        S  "
      ]
     },
     "execution_count": 38,
     "metadata": {},
     "output_type": "execute_result"
    }
   ],
   "source": [
    "titanic_data.head()"
   ]
  },
  {
   "cell_type": "markdown",
   "id": "83ceccba",
   "metadata": {},
   "source": [
    "**Preaparing Data for Model**<br>\n",
    "No we will require to convert all non-numerical columns to numeric. Please note this is required for feeding data into model. Lets see which columns are non numeric info describe method"
   ]
  },
  {
   "cell_type": "code",
   "execution_count": 39,
   "id": "2da89247",
   "metadata": {},
   "outputs": [],
   "source": [
    "#Checking for the non-numeric column"
   ]
  },
  {
   "cell_type": "code",
   "execution_count": 40,
   "id": "ca3929ea",
   "metadata": {},
   "outputs": [
    {
     "name": "stdout",
     "output_type": "stream",
     "text": [
      "<class 'pandas.core.frame.DataFrame'>\n",
      "RangeIndex: 891 entries, 0 to 890\n",
      "Data columns (total 11 columns):\n",
      " #   Column       Non-Null Count  Dtype  \n",
      "---  ------       --------------  -----  \n",
      " 0   PassengerId  891 non-null    int64  \n",
      " 1   Survived     891 non-null    int64  \n",
      " 2   Pclass       891 non-null    int64  \n",
      " 3   Name         891 non-null    object \n",
      " 4   Sex          891 non-null    object \n",
      " 5   Age          891 non-null    float64\n",
      " 6   SibSp        891 non-null    int64  \n",
      " 7   Parch        891 non-null    int64  \n",
      " 8   Ticket       891 non-null    object \n",
      " 9   Fare         891 non-null    float64\n",
      " 10  Embarked     889 non-null    object \n",
      "dtypes: float64(2), int64(5), object(4)\n",
      "memory usage: 76.7+ KB\n"
     ]
    }
   ],
   "source": [
    "titanic_data.info()"
   ]
  },
  {
   "cell_type": "code",
   "execution_count": 41,
   "id": "e3f249c6",
   "metadata": {},
   "outputs": [
    {
     "data": {
      "text/plain": [
       "PassengerId      int64\n",
       "Survived         int64\n",
       "Pclass           int64\n",
       "Name            object\n",
       "Sex             object\n",
       "Age            float64\n",
       "SibSp            int64\n",
       "Parch            int64\n",
       "Ticket          object\n",
       "Fare           float64\n",
       "Embarked        object\n",
       "dtype: object"
      ]
     },
     "execution_count": 41,
     "metadata": {},
     "output_type": "execute_result"
    }
   ],
   "source": [
    "titanic_data.dtypes"
   ]
  },
  {
   "cell_type": "markdown",
   "id": "4281aa24",
   "metadata": {},
   "source": [
    "**We can see, Name, Sex, Ticket and Embarked are non-numerical.It seems Name,Embarked and Ticket number are not useful for Machine Learning Prediction hence we will eventually drop it. For Now we would convert Sex Column to dummies numerical values******"
   ]
  },
  {
   "cell_type": "code",
   "execution_count": 42,
   "id": "966ab233",
   "metadata": {},
   "outputs": [],
   "source": [
    "#converting sex column to numerical values"
   ]
  },
  {
   "cell_type": "code",
   "execution_count": 43,
   "id": "3c6ebac9",
   "metadata": {},
   "outputs": [],
   "source": [
    "gender=pd.get_dummies(titanic_data['Sex'],drop_first=True)"
   ]
  },
  {
   "cell_type": "code",
   "execution_count": 44,
   "id": "1a8d4372",
   "metadata": {},
   "outputs": [],
   "source": [
    "titanic_data['Gender']=gender"
   ]
  },
  {
   "cell_type": "code",
   "execution_count": 45,
   "id": "84c00c5c",
   "metadata": {},
   "outputs": [
    {
     "data": {
      "text/html": [
       "<div>\n",
       "<style scoped>\n",
       "    .dataframe tbody tr th:only-of-type {\n",
       "        vertical-align: middle;\n",
       "    }\n",
       "\n",
       "    .dataframe tbody tr th {\n",
       "        vertical-align: top;\n",
       "    }\n",
       "\n",
       "    .dataframe thead th {\n",
       "        text-align: right;\n",
       "    }\n",
       "</style>\n",
       "<table border=\"1\" class=\"dataframe\">\n",
       "  <thead>\n",
       "    <tr style=\"text-align: right;\">\n",
       "      <th></th>\n",
       "      <th>PassengerId</th>\n",
       "      <th>Survived</th>\n",
       "      <th>Pclass</th>\n",
       "      <th>Name</th>\n",
       "      <th>Sex</th>\n",
       "      <th>Age</th>\n",
       "      <th>SibSp</th>\n",
       "      <th>Parch</th>\n",
       "      <th>Ticket</th>\n",
       "      <th>Fare</th>\n",
       "      <th>Embarked</th>\n",
       "      <th>Gender</th>\n",
       "    </tr>\n",
       "  </thead>\n",
       "  <tbody>\n",
       "    <tr>\n",
       "      <th>0</th>\n",
       "      <td>1</td>\n",
       "      <td>0</td>\n",
       "      <td>3</td>\n",
       "      <td>Braund, Mr. Owen Harris</td>\n",
       "      <td>male</td>\n",
       "      <td>22.0</td>\n",
       "      <td>1</td>\n",
       "      <td>0</td>\n",
       "      <td>A/5 21171</td>\n",
       "      <td>7.2500</td>\n",
       "      <td>S</td>\n",
       "      <td>1</td>\n",
       "    </tr>\n",
       "    <tr>\n",
       "      <th>1</th>\n",
       "      <td>2</td>\n",
       "      <td>1</td>\n",
       "      <td>1</td>\n",
       "      <td>Cumings, Mrs. John Bradley (Florence Briggs Th...</td>\n",
       "      <td>female</td>\n",
       "      <td>38.0</td>\n",
       "      <td>1</td>\n",
       "      <td>0</td>\n",
       "      <td>PC 17599</td>\n",
       "      <td>71.2833</td>\n",
       "      <td>C</td>\n",
       "      <td>0</td>\n",
       "    </tr>\n",
       "    <tr>\n",
       "      <th>2</th>\n",
       "      <td>3</td>\n",
       "      <td>1</td>\n",
       "      <td>3</td>\n",
       "      <td>Heikkinen, Miss. Laina</td>\n",
       "      <td>female</td>\n",
       "      <td>26.0</td>\n",
       "      <td>0</td>\n",
       "      <td>0</td>\n",
       "      <td>STON/O2. 3101282</td>\n",
       "      <td>7.9250</td>\n",
       "      <td>S</td>\n",
       "      <td>0</td>\n",
       "    </tr>\n",
       "    <tr>\n",
       "      <th>3</th>\n",
       "      <td>4</td>\n",
       "      <td>1</td>\n",
       "      <td>1</td>\n",
       "      <td>Futrelle, Mrs. Jacques Heath (Lily May Peel)</td>\n",
       "      <td>female</td>\n",
       "      <td>35.0</td>\n",
       "      <td>1</td>\n",
       "      <td>0</td>\n",
       "      <td>113803</td>\n",
       "      <td>53.1000</td>\n",
       "      <td>S</td>\n",
       "      <td>0</td>\n",
       "    </tr>\n",
       "    <tr>\n",
       "      <th>4</th>\n",
       "      <td>5</td>\n",
       "      <td>0</td>\n",
       "      <td>3</td>\n",
       "      <td>Allen, Mr. William Henry</td>\n",
       "      <td>male</td>\n",
       "      <td>35.0</td>\n",
       "      <td>0</td>\n",
       "      <td>0</td>\n",
       "      <td>373450</td>\n",
       "      <td>8.0500</td>\n",
       "      <td>S</td>\n",
       "      <td>1</td>\n",
       "    </tr>\n",
       "  </tbody>\n",
       "</table>\n",
       "</div>"
      ],
      "text/plain": [
       "   PassengerId  Survived  Pclass  \\\n",
       "0            1         0       3   \n",
       "1            2         1       1   \n",
       "2            3         1       3   \n",
       "3            4         1       1   \n",
       "4            5         0       3   \n",
       "\n",
       "                                                Name     Sex   Age  SibSp  \\\n",
       "0                            Braund, Mr. Owen Harris    male  22.0      1   \n",
       "1  Cumings, Mrs. John Bradley (Florence Briggs Th...  female  38.0      1   \n",
       "2                             Heikkinen, Miss. Laina  female  26.0      0   \n",
       "3       Futrelle, Mrs. Jacques Heath (Lily May Peel)  female  35.0      1   \n",
       "4                           Allen, Mr. William Henry    male  35.0      0   \n",
       "\n",
       "   Parch            Ticket     Fare Embarked  Gender  \n",
       "0      0         A/5 21171   7.2500        S       1  \n",
       "1      0          PC 17599  71.2833        C       0  \n",
       "2      0  STON/O2. 3101282   7.9250        S       0  \n",
       "3      0            113803  53.1000        S       0  \n",
       "4      0            373450   8.0500        S       1  "
      ]
     },
     "execution_count": 45,
     "metadata": {},
     "output_type": "execute_result"
    }
   ],
   "source": [
    "titanic_data.head()"
   ]
  },
  {
   "cell_type": "code",
   "execution_count": 46,
   "id": "73d6ff2d",
   "metadata": {},
   "outputs": [],
   "source": [
    "#droping the columns which are not required"
   ]
  },
  {
   "cell_type": "code",
   "execution_count": 47,
   "id": "d487e9a4",
   "metadata": {},
   "outputs": [],
   "source": [
    "titanic_data.drop(['Name','Sex','Ticket','Embarked'],axis=1,inplace=True)"
   ]
  },
  {
   "cell_type": "code",
   "execution_count": 48,
   "id": "7a0218ea",
   "metadata": {},
   "outputs": [
    {
     "data": {
      "text/html": [
       "<div>\n",
       "<style scoped>\n",
       "    .dataframe tbody tr th:only-of-type {\n",
       "        vertical-align: middle;\n",
       "    }\n",
       "\n",
       "    .dataframe tbody tr th {\n",
       "        vertical-align: top;\n",
       "    }\n",
       "\n",
       "    .dataframe thead th {\n",
       "        text-align: right;\n",
       "    }\n",
       "</style>\n",
       "<table border=\"1\" class=\"dataframe\">\n",
       "  <thead>\n",
       "    <tr style=\"text-align: right;\">\n",
       "      <th></th>\n",
       "      <th>PassengerId</th>\n",
       "      <th>Survived</th>\n",
       "      <th>Pclass</th>\n",
       "      <th>Age</th>\n",
       "      <th>SibSp</th>\n",
       "      <th>Parch</th>\n",
       "      <th>Fare</th>\n",
       "      <th>Gender</th>\n",
       "    </tr>\n",
       "  </thead>\n",
       "  <tbody>\n",
       "    <tr>\n",
       "      <th>0</th>\n",
       "      <td>1</td>\n",
       "      <td>0</td>\n",
       "      <td>3</td>\n",
       "      <td>22.0</td>\n",
       "      <td>1</td>\n",
       "      <td>0</td>\n",
       "      <td>7.2500</td>\n",
       "      <td>1</td>\n",
       "    </tr>\n",
       "    <tr>\n",
       "      <th>1</th>\n",
       "      <td>2</td>\n",
       "      <td>1</td>\n",
       "      <td>1</td>\n",
       "      <td>38.0</td>\n",
       "      <td>1</td>\n",
       "      <td>0</td>\n",
       "      <td>71.2833</td>\n",
       "      <td>0</td>\n",
       "    </tr>\n",
       "    <tr>\n",
       "      <th>2</th>\n",
       "      <td>3</td>\n",
       "      <td>1</td>\n",
       "      <td>3</td>\n",
       "      <td>26.0</td>\n",
       "      <td>0</td>\n",
       "      <td>0</td>\n",
       "      <td>7.9250</td>\n",
       "      <td>0</td>\n",
       "    </tr>\n",
       "    <tr>\n",
       "      <th>3</th>\n",
       "      <td>4</td>\n",
       "      <td>1</td>\n",
       "      <td>1</td>\n",
       "      <td>35.0</td>\n",
       "      <td>1</td>\n",
       "      <td>0</td>\n",
       "      <td>53.1000</td>\n",
       "      <td>0</td>\n",
       "    </tr>\n",
       "    <tr>\n",
       "      <th>4</th>\n",
       "      <td>5</td>\n",
       "      <td>0</td>\n",
       "      <td>3</td>\n",
       "      <td>35.0</td>\n",
       "      <td>0</td>\n",
       "      <td>0</td>\n",
       "      <td>8.0500</td>\n",
       "      <td>1</td>\n",
       "    </tr>\n",
       "  </tbody>\n",
       "</table>\n",
       "</div>"
      ],
      "text/plain": [
       "   PassengerId  Survived  Pclass   Age  SibSp  Parch     Fare  Gender\n",
       "0            1         0       3  22.0      1      0   7.2500       1\n",
       "1            2         1       1  38.0      1      0  71.2833       0\n",
       "2            3         1       3  26.0      0      0   7.9250       0\n",
       "3            4         1       1  35.0      1      0  53.1000       0\n",
       "4            5         0       3  35.0      0      0   8.0500       1"
      ]
     },
     "execution_count": 48,
     "metadata": {},
     "output_type": "execute_result"
    }
   ],
   "source": [
    "titanic_data.head()"
   ]
  },
  {
   "cell_type": "code",
   "execution_count": 49,
   "id": "c3957052",
   "metadata": {},
   "outputs": [],
   "source": [
    "#Seperating Dependent and Independent variables"
   ]
  },
  {
   "cell_type": "code",
   "execution_count": 50,
   "id": "7318e8d9",
   "metadata": {},
   "outputs": [],
   "source": [
    "x=titanic_data[['PassengerId','Pclass','Age','SibSp','Parch','Fare','Gender']]\n",
    "y=titanic_data['Survived']"
   ]
  },
  {
   "cell_type": "code",
   "execution_count": 51,
   "id": "920c83be",
   "metadata": {},
   "outputs": [
    {
     "data": {
      "text/plain": [
       "0      0\n",
       "1      1\n",
       "2      1\n",
       "3      1\n",
       "4      0\n",
       "      ..\n",
       "886    0\n",
       "887    1\n",
       "888    0\n",
       "889    1\n",
       "890    0\n",
       "Name: Survived, Length: 891, dtype: int64"
      ]
     },
     "execution_count": 51,
     "metadata": {},
     "output_type": "execute_result"
    }
   ],
   "source": [
    "y"
   ]
  },
  {
   "cell_type": "markdown",
   "id": "04709d6d",
   "metadata": {},
   "source": [
    "<h1>Data Modelling"
   ]
  },
  {
   "cell_type": "markdown",
   "id": "71cde1e5",
   "metadata": {},
   "source": [
    "**Building Model using Logestic Regression**"
   ]
  },
  {
   "cell_type": "markdown",
   "id": "6cab0ca0",
   "metadata": {},
   "source": [
    "**Build the model**"
   ]
  },
  {
   "cell_type": "code",
   "execution_count": 54,
   "id": "8a7741ab",
   "metadata": {},
   "outputs": [],
   "source": [
    "#importing train test split method"
   ]
  },
  {
   "cell_type": "code",
   "execution_count": 55,
   "id": "aa9535c6",
   "metadata": {},
   "outputs": [],
   "source": [
    "from sklearn.model_selection import train_test_split"
   ]
  },
  {
   "cell_type": "code",
   "execution_count": 56,
   "id": "db8c9db6",
   "metadata": {},
   "outputs": [],
   "source": [
    "#training test split"
   ]
  },
  {
   "cell_type": "code",
   "execution_count": 57,
   "id": "fb7d30fc",
   "metadata": {},
   "outputs": [],
   "source": [
    "x_train, x_test, y_train, y_test = train_test_split(x, y, test_size=0.33, random_state=42)"
   ]
  },
  {
   "cell_type": "code",
   "execution_count": 58,
   "id": "2132d941",
   "metadata": {},
   "outputs": [],
   "source": [
    "#import Logistic  Regression"
   ]
  },
  {
   "cell_type": "code",
   "execution_count": 59,
   "id": "2f7906c8",
   "metadata": {},
   "outputs": [],
   "source": [
    "from sklearn.linear_model import LogisticRegression"
   ]
  },
  {
   "cell_type": "code",
   "execution_count": 60,
   "id": "e727a990",
   "metadata": {},
   "outputs": [],
   "source": [
    "#Fit  Logistic Regression "
   ]
  },
  {
   "cell_type": "code",
   "execution_count": 61,
   "id": "d4602d8d",
   "metadata": {},
   "outputs": [],
   "source": [
    "lr=LogisticRegression()"
   ]
  },
  {
   "cell_type": "code",
   "execution_count": 62,
   "id": "15370479",
   "metadata": {},
   "outputs": [
    {
     "name": "stderr",
     "output_type": "stream",
     "text": [
      "C:\\Users\\user\\anaconda3\\lib\\site-packages\\sklearn\\linear_model\\_logistic.py:814: ConvergenceWarning: lbfgs failed to converge (status=1):\n",
      "STOP: TOTAL NO. of ITERATIONS REACHED LIMIT.\n",
      "\n",
      "Increase the number of iterations (max_iter) or scale the data as shown in:\n",
      "    https://scikit-learn.org/stable/modules/preprocessing.html\n",
      "Please also refer to the documentation for alternative solver options:\n",
      "    https://scikit-learn.org/stable/modules/linear_model.html#logistic-regression\n",
      "  n_iter_i = _check_optimize_result(\n"
     ]
    },
    {
     "data": {
      "text/plain": [
       "LogisticRegression()"
      ]
     },
     "execution_count": 62,
     "metadata": {},
     "output_type": "execute_result"
    }
   ],
   "source": [
    "lr.fit(x_train,y_train)"
   ]
  },
  {
   "cell_type": "code",
   "execution_count": 63,
   "id": "9ac9cb88",
   "metadata": {},
   "outputs": [],
   "source": [
    "#predicting"
   ]
  },
  {
   "cell_type": "code",
   "execution_count": 64,
   "id": "8bd88c81",
   "metadata": {},
   "outputs": [],
   "source": [
    "predict=lr.predict(x_test)"
   ]
  },
  {
   "cell_type": "markdown",
   "id": "33a9400f",
   "metadata": {},
   "source": [
    "<h1>Testing"
   ]
  },
  {
   "cell_type": "markdown",
   "id": "7b691a80",
   "metadata": {},
   "source": [
    "**See how our model is performing**"
   ]
  },
  {
   "cell_type": "code",
   "execution_count": 66,
   "id": "7043da21",
   "metadata": {},
   "outputs": [],
   "source": [
    "#printing confusion matrix "
   ]
  },
  {
   "cell_type": "code",
   "execution_count": 67,
   "id": "ceefcca5",
   "metadata": {},
   "outputs": [],
   "source": [
    "from sklearn.metrics import confusion_matrix"
   ]
  },
  {
   "cell_type": "code",
   "execution_count": 68,
   "id": "f44aa0e5",
   "metadata": {},
   "outputs": [
    {
     "data": {
      "text/html": [
       "<div>\n",
       "<style scoped>\n",
       "    .dataframe tbody tr th:only-of-type {\n",
       "        vertical-align: middle;\n",
       "    }\n",
       "\n",
       "    .dataframe tbody tr th {\n",
       "        vertical-align: top;\n",
       "    }\n",
       "\n",
       "    .dataframe thead th {\n",
       "        text-align: right;\n",
       "    }\n",
       "</style>\n",
       "<table border=\"1\" class=\"dataframe\">\n",
       "  <thead>\n",
       "    <tr style=\"text-align: right;\">\n",
       "      <th></th>\n",
       "      <th>Predicted No</th>\n",
       "      <th>Predicted Yes</th>\n",
       "    </tr>\n",
       "  </thead>\n",
       "  <tbody>\n",
       "    <tr>\n",
       "      <th>Actual No</th>\n",
       "      <td>151</td>\n",
       "      <td>24</td>\n",
       "    </tr>\n",
       "    <tr>\n",
       "      <th>Actual Yes</th>\n",
       "      <td>38</td>\n",
       "      <td>82</td>\n",
       "    </tr>\n",
       "  </tbody>\n",
       "</table>\n",
       "</div>"
      ],
      "text/plain": [
       "            Predicted No  Predicted Yes\n",
       "Actual No            151             24\n",
       "Actual Yes            38             82"
      ]
     },
     "execution_count": 68,
     "metadata": {},
     "output_type": "execute_result"
    }
   ],
   "source": [
    "pd.DataFrame(confusion_matrix(y_test,predict),columns=['Predicted No','Predicted Yes'],index=['Actual No','Actual Yes'])"
   ]
  },
  {
   "cell_type": "markdown",
   "id": "552276d4",
   "metadata": {},
   "source": [
    "Type Markdown and LaTeX:  𝛼2"
   ]
  },
  {
   "cell_type": "code",
   "execution_count": 69,
   "id": "5fd2ebf7",
   "metadata": {},
   "outputs": [],
   "source": [
    "#import classification report"
   ]
  },
  {
   "cell_type": "code",
   "execution_count": 70,
   "id": "36d6ffb8",
   "metadata": {},
   "outputs": [],
   "source": [
    "from sklearn.metrics import classification_report"
   ]
  },
  {
   "cell_type": "code",
   "execution_count": 71,
   "id": "8f80fff7",
   "metadata": {},
   "outputs": [
    {
     "name": "stdout",
     "output_type": "stream",
     "text": [
      "              precision    recall  f1-score   support\n",
      "\n",
      "           0       0.80      0.86      0.83       175\n",
      "           1       0.77      0.68      0.73       120\n",
      "\n",
      "    accuracy                           0.79       295\n",
      "   macro avg       0.79      0.77      0.78       295\n",
      "weighted avg       0.79      0.79      0.79       295\n",
      "\n"
     ]
    }
   ],
   "source": [
    "print(classification_report(y_test,predict))"
   ]
  },
  {
   "cell_type": "markdown",
   "id": "9aa8bac6",
   "metadata": {},
   "source": [
    "\n",
    "\n",
    "Note: <br>\n",
    "Precision : Precision is the ratio of correctly predicted positive observations to the total predicted positive observations <br>\n",
    "Recall : Recall is the ratio of correctly predicted positive observations to the all observations in actual class\n",
    "F1 score - F1 Score is the weighted average of Precision and Recall.\n",
    "\n"
   ]
  },
  {
   "cell_type": "markdown",
   "id": "6c1a1793",
   "metadata": {},
   "source": [
    "<h1> ROC(Receiver Operating Characteristic) Curve"
   ]
  },
  {
   "cell_type": "markdown",
   "id": "08304eb6",
   "metadata": {},
   "source": [
    "# AUC (Area Under the Curve) Score"
   ]
  },
  {
   "cell_type": "code",
   "execution_count": 73,
   "id": "4a86e36d",
   "metadata": {},
   "outputs": [
    {
     "name": "stdout",
     "output_type": "stream",
     "text": [
      "0.7898305084745763\n"
     ]
    },
    {
     "data": {
      "text/html": [
       "<div>\n",
       "<style scoped>\n",
       "    .dataframe tbody tr th:only-of-type {\n",
       "        vertical-align: middle;\n",
       "    }\n",
       "\n",
       "    .dataframe tbody tr th {\n",
       "        vertical-align: top;\n",
       "    }\n",
       "\n",
       "    .dataframe thead th {\n",
       "        text-align: right;\n",
       "    }\n",
       "</style>\n",
       "<table border=\"1\" class=\"dataframe\">\n",
       "  <thead>\n",
       "    <tr style=\"text-align: right;\">\n",
       "      <th>col_0</th>\n",
       "      <th>0</th>\n",
       "      <th>1</th>\n",
       "    </tr>\n",
       "    <tr>\n",
       "      <th>Survived</th>\n",
       "      <th></th>\n",
       "      <th></th>\n",
       "    </tr>\n",
       "  </thead>\n",
       "  <tbody>\n",
       "    <tr>\n",
       "      <th>0</th>\n",
       "      <td>151</td>\n",
       "      <td>24</td>\n",
       "    </tr>\n",
       "    <tr>\n",
       "      <th>1</th>\n",
       "      <td>38</td>\n",
       "      <td>82</td>\n",
       "    </tr>\n",
       "  </tbody>\n",
       "</table>\n",
       "</div>"
      ],
      "text/plain": [
       "col_0       0   1\n",
       "Survived         \n",
       "0         151  24\n",
       "1          38  82"
      ]
     },
     "execution_count": 73,
     "metadata": {},
     "output_type": "execute_result"
    }
   ],
   "source": [
    "from sklearn.metrics import accuracy_score\n",
    "print(accuracy_score(y_test,predict))\n",
    "pd.crosstab(y_test,predict)"
   ]
  },
  {
   "cell_type": "code",
   "execution_count": 75,
   "id": "aab087d8",
   "metadata": {},
   "outputs": [
    {
     "data": {
      "text/plain": [
       "array([0.13587817, 0.17968641, 0.20181192, 0.76196978, 0.52500524,\n",
       "       0.85296182, 0.61122635, 0.11214918, 0.59513479, 0.61658338,\n",
       "       0.2236505 , 0.17556198, 0.52017895, 0.12273572, 0.16991054,\n",
       "       0.82879019, 0.31065059, 0.68784002, 0.25808186, 0.24429268,\n",
       "       0.12988274, 0.25035001, 0.54921289, 0.18094969, 0.16828134,\n",
       "       0.10379284, 0.18404478, 0.22010465, 0.05377355, 0.63258652,\n",
       "       0.20774306, 0.57746341, 0.32956321, 0.59581689, 0.12164174,\n",
       "       0.1563763 , 0.2004186 , 0.58787937, 0.8453824 , 0.18449557,\n",
       "       0.20050436, 0.1284731 , 0.19926993, 0.19165142, 0.57809901,\n",
       "       0.06287292, 0.10834121, 0.13811916, 0.12000945, 0.40373898,\n",
       "       0.54400738, 0.87844395, 0.05680301, 0.43265014, 0.12148488,\n",
       "       0.82507523, 0.13332923, 0.97121725, 0.67794506, 0.55624225,\n",
       "       0.14304034, 0.67441941, 0.70080522, 0.20360235, 0.11860186,\n",
       "       0.75384194, 0.25154363, 0.14335862, 0.10940424, 0.86174142,\n",
       "       0.62022122, 0.95947831, 0.34943751, 0.868329  , 0.19988259,\n",
       "       0.15447374, 0.71024833, 0.7569597 , 0.68614956, 0.50819588,\n",
       "       0.07844761, 0.61960489, 0.88232092, 0.18986164, 0.20754857,\n",
       "       0.30360274, 0.87288741, 0.81826609, 0.25602664, 0.12343452,\n",
       "       0.08631647, 0.4529603 , 0.28956422, 0.13908587, 0.10732126,\n",
       "       0.12776349, 0.32607479, 0.13129183, 0.6806072 , 0.13230423,\n",
       "       0.25829777, 0.16171407, 0.85173975, 0.14552714, 0.1956049 ,\n",
       "       0.12640937, 0.72479741, 0.27744986, 0.13020253, 0.21775933,\n",
       "       0.83471455, 0.12255312, 0.90382608, 0.26096953, 0.7942377 ,\n",
       "       0.21124885, 0.19962541, 0.16282444, 0.63257911, 0.55707173,\n",
       "       0.11899047, 0.83881033, 0.81881068, 0.10876987, 0.19106423,\n",
       "       0.27918026, 0.82708803, 0.32349161, 0.65238891, 0.15382299,\n",
       "       0.6248758 , 0.07841673, 0.16747107, 0.73135383, 0.31528242,\n",
       "       0.70926055, 0.89620444, 0.12228005, 0.19659836, 0.54564585,\n",
       "       0.17514131, 0.7747501 , 0.17133412, 0.20405129, 0.49515934,\n",
       "       0.65845621, 0.15417762, 0.12368582, 0.89621951, 0.17194371,\n",
       "       0.16464117, 0.1548503 , 0.17967893, 0.5743742 , 0.10759185,\n",
       "       0.16541414, 0.27109715, 0.56095665, 0.71644528, 0.61280824,\n",
       "       0.12927155, 0.26248384, 0.2408013 , 0.84612225, 0.10162569,\n",
       "       0.20690655, 0.17572226, 0.80464661, 0.156759  , 0.13436552,\n",
       "       0.22738456, 0.5889064 , 0.27239405, 0.66293588, 0.14575208,\n",
       "       0.1881792 , 0.27293235, 0.62784584, 0.47466927, 0.23130725,\n",
       "       0.23220982, 0.13827461, 0.15659467, 0.51877679, 0.7361464 ,\n",
       "       0.26340737, 0.17500891, 0.1031025 , 0.20493882, 0.77913116,\n",
       "       0.13467545, 0.15568639, 0.15925214, 0.10976383, 0.63952582,\n",
       "       0.86958026, 0.98105522, 0.24077404, 0.85885038, 0.45245531,\n",
       "       0.12489009, 0.66512295, 0.65676514, 0.64552267, 0.18880181,\n",
       "       0.5846104 , 0.18381667, 0.33152056, 0.16255139, 0.1468217 ,\n",
       "       0.64044419, 0.13574499, 0.8617236 , 0.14846791, 0.50207203,\n",
       "       0.06032186, 0.68911607, 0.22553659, 0.76903538, 0.14265328,\n",
       "       0.10962662, 0.65756393, 0.11465353, 0.23423485, 0.20568591,\n",
       "       0.5514503 , 0.15083218, 0.41392852, 0.67966349, 0.54387649,\n",
       "       0.16833652, 0.97264326, 0.12513147, 0.6248185 , 0.1159945 ,\n",
       "       0.66962673, 0.90309314, 0.70157369, 0.97393412, 0.20478683,\n",
       "       0.12104995, 0.697604  , 0.15430448, 0.64042355, 0.19594165,\n",
       "       0.1381929 , 0.14848336, 0.18803788, 0.12078479, 0.25465805,\n",
       "       0.57407857, 0.10656546, 0.14374732, 0.10619465, 0.5102848 ,\n",
       "       0.19289392, 0.16564858, 0.88011415, 0.15552948, 0.63881914,\n",
       "       0.95448668, 0.44275988, 0.68323917, 0.19866417, 0.22538925,\n",
       "       0.24332482, 0.15632868, 0.24899456, 0.29034126, 0.17206685,\n",
       "       0.49753271, 0.12071782, 0.13135358, 0.51746485, 0.7215841 ,\n",
       "       0.10888934, 0.20210403, 0.15349632, 0.87866755, 0.23854232,\n",
       "       0.07952817, 0.11287655, 0.90795724, 0.14854009, 0.14914382,\n",
       "       0.07320595, 0.54851271, 0.12620361, 0.1248133 , 0.15332557,\n",
       "       0.18301693, 0.15340138, 0.53980898, 0.47024159, 0.1178929 ])"
      ]
     },
     "execution_count": 75,
     "metadata": {},
     "output_type": "execute_result"
    }
   ],
   "source": [
    "lr.predict_proba(x_test)[:, 1]"
   ]
  },
  {
   "cell_type": "code",
   "execution_count": 80,
   "id": "42fc29d6",
   "metadata": {},
   "outputs": [],
   "source": [
    "y_predict_th3 = np.where(lr.predict_proba(x_test)[:,1]>0.3,1,0) #Threshold is 0.3\n",
    "y_predict_th4 = np.where(lr.predict_proba(x_test)[:,1]>0.4,1,0) #Threshold is 0.4\n"
   ]
  },
  {
   "cell_type": "code",
   "execution_count": 81,
   "id": "1b8a2ec2",
   "metadata": {},
   "outputs": [
    {
     "data": {
      "text/html": [
       "<div>\n",
       "<style scoped>\n",
       "    .dataframe tbody tr th:only-of-type {\n",
       "        vertical-align: middle;\n",
       "    }\n",
       "\n",
       "    .dataframe tbody tr th {\n",
       "        vertical-align: top;\n",
       "    }\n",
       "\n",
       "    .dataframe thead th {\n",
       "        text-align: right;\n",
       "    }\n",
       "</style>\n",
       "<table border=\"1\" class=\"dataframe\">\n",
       "  <thead>\n",
       "    <tr style=\"text-align: right;\">\n",
       "      <th>col_0</th>\n",
       "      <th>0</th>\n",
       "      <th>1</th>\n",
       "    </tr>\n",
       "    <tr>\n",
       "      <th>Survived</th>\n",
       "      <th></th>\n",
       "      <th></th>\n",
       "    </tr>\n",
       "  </thead>\n",
       "  <tbody>\n",
       "    <tr>\n",
       "      <th>0</th>\n",
       "      <td>145</td>\n",
       "      <td>30</td>\n",
       "    </tr>\n",
       "    <tr>\n",
       "      <th>1</th>\n",
       "      <td>34</td>\n",
       "      <td>86</td>\n",
       "    </tr>\n",
       "  </tbody>\n",
       "</table>\n",
       "</div>"
      ],
      "text/plain": [
       "col_0       0   1\n",
       "Survived         \n",
       "0         145  30\n",
       "1          34  86"
      ]
     },
     "execution_count": 81,
     "metadata": {},
     "output_type": "execute_result"
    }
   ],
   "source": [
    "pd.crosstab(y_test,y_predict_th4)"
   ]
  },
  {
   "cell_type": "code",
   "execution_count": 82,
   "id": "ecc55458",
   "metadata": {},
   "outputs": [],
   "source": [
    "def predict_threshold (lr,x_test,thresholds):\n",
    "    return np.where(lr.predict_proba(x_test)[:,1]>thresholds,1,0) #Threshold is 0.3"
   ]
  },
  {
   "cell_type": "code",
   "execution_count": 85,
   "id": "d5eff6be",
   "metadata": {},
   "outputs": [
    {
     "name": "stdout",
     "output_type": "stream",
     "text": [
      "Threshold : 0.0\n",
      "[[  0 175]\n",
      " [  0 120]]\n",
      "Threshold : 0.1\n",
      "[[  7 168]\n",
      " [  2 118]]\n",
      "Threshold : 0.2\n",
      "[[114  61]\n",
      " [ 13 107]]\n",
      "Threshold : 0.30000000000000004\n",
      "[[142  33]\n",
      " [ 29  91]]\n",
      "Threshold : 0.4\n",
      "[[145  30]\n",
      " [ 34  86]]\n",
      "Threshold : 0.5\n",
      "[[151  24]\n",
      " [ 38  82]]\n",
      "Threshold : 0.6000000000000001\n",
      "[[160  15]\n",
      " [ 55  65]]\n",
      "Threshold : 0.7000000000000001\n",
      "[[170   5]\n",
      " [ 76  44]]\n",
      "Threshold : 0.8\n",
      "[[175   0]\n",
      " [ 87  33]]\n",
      "Threshold : 0.9\n",
      "[[175   0]\n",
      " [111   9]]\n"
     ]
    }
   ],
   "source": [
    "import numpy as np\n",
    "from sklearn.metrics import confusion_matrix\n",
    "for thr in np.arange(0,1.0,0.1):\n",
    "    y_predict = predict_threshold(lr,x_test,thr)\n",
    "    print(\"Threshold :\", thr)\n",
    "    print(confusion_matrix(y_test,y_predict))"
   ]
  },
  {
   "cell_type": "code",
   "execution_count": 86,
   "id": "694b8ac6",
   "metadata": {},
   "outputs": [],
   "source": [
    "from sklearn.metrics import roc_curve, roc_auc_score"
   ]
  },
  {
   "cell_type": "code",
   "execution_count": 87,
   "id": "3a047759",
   "metadata": {},
   "outputs": [],
   "source": [
    "tpr,fpr,thresholds = roc_curve(y_test,lr.predict_proba(x_test)[:,1],drop_intermediate=False)"
   ]
  },
  {
   "cell_type": "code",
   "execution_count": 88,
   "id": "d353292b",
   "metadata": {},
   "outputs": [
    {
     "data": {
      "text/plain": [
       "array([1.98105522, 0.98105522, 0.97393412, 0.97264326, 0.97121725,\n",
       "       0.95947831, 0.95448668, 0.90795724, 0.90382608, 0.90309314,\n",
       "       0.89621951, 0.89620444, 0.88232092, 0.88011415, 0.87866755,\n",
       "       0.87844395, 0.87288741, 0.86958026, 0.868329  , 0.86174142,\n",
       "       0.8617236 , 0.85885038, 0.85296182, 0.85173975, 0.84612225,\n",
       "       0.8453824 , 0.83881033, 0.83471455, 0.82879019, 0.82708803,\n",
       "       0.82507523, 0.81881068, 0.81826609, 0.80464661, 0.7942377 ,\n",
       "       0.77913116, 0.7747501 , 0.76903538, 0.76196978, 0.7569597 ,\n",
       "       0.75384194, 0.7361464 , 0.73135383, 0.72479741, 0.7215841 ,\n",
       "       0.71644528, 0.71024833, 0.70926055, 0.70157369, 0.70080522,\n",
       "       0.697604  , 0.68911607, 0.68784002, 0.68614956, 0.68323917,\n",
       "       0.6806072 , 0.67966349, 0.67794506, 0.67441941, 0.66962673,\n",
       "       0.66512295, 0.66293588, 0.65845621, 0.65756393, 0.65676514,\n",
       "       0.65238891, 0.64552267, 0.64044419, 0.64042355, 0.63952582,\n",
       "       0.63881914, 0.63258652, 0.63257911, 0.62784584, 0.6248758 ,\n",
       "       0.6248185 , 0.62022122, 0.61960489, 0.61658338, 0.61280824,\n",
       "       0.61122635, 0.59581689, 0.59513479, 0.5889064 , 0.58787937,\n",
       "       0.5846104 , 0.57809901, 0.57746341, 0.5743742 , 0.57407857,\n",
       "       0.56095665, 0.55707173, 0.55624225, 0.5514503 , 0.54921289,\n",
       "       0.54851271, 0.54564585, 0.54400738, 0.54387649, 0.53980898,\n",
       "       0.52500524, 0.52017895, 0.51877679, 0.51746485, 0.5102848 ,\n",
       "       0.50819588, 0.50207203, 0.49753271, 0.49515934, 0.47466927,\n",
       "       0.47024159, 0.4529603 , 0.45245531, 0.44275988, 0.43265014,\n",
       "       0.41392852, 0.40373898, 0.34943751, 0.33152056, 0.32956321,\n",
       "       0.32607479, 0.32349161, 0.31528242, 0.31065059, 0.30360274,\n",
       "       0.29034126, 0.28956422, 0.27918026, 0.27744986, 0.27293235,\n",
       "       0.27239405, 0.27109715, 0.26340737, 0.26248384, 0.26096953,\n",
       "       0.25829777, 0.25808186, 0.25602664, 0.25465805, 0.25154363,\n",
       "       0.25035001, 0.24899456, 0.24429268, 0.24332482, 0.2408013 ,\n",
       "       0.24077404, 0.23854232, 0.23423485, 0.23220982, 0.23130725,\n",
       "       0.22738456, 0.22553659, 0.22538925, 0.2236505 , 0.22010465,\n",
       "       0.21775933, 0.21124885, 0.20774306, 0.20754857, 0.20690655,\n",
       "       0.20568591, 0.20493882, 0.20478683, 0.20405129, 0.20360235,\n",
       "       0.20210403, 0.20181192, 0.20050436, 0.2004186 , 0.19988259,\n",
       "       0.19962541, 0.19926993, 0.19866417, 0.19659836, 0.19594165,\n",
       "       0.1956049 , 0.19289392, 0.19165142, 0.19106423, 0.18986164,\n",
       "       0.18880181, 0.1881792 , 0.18803788, 0.18449557, 0.18404478,\n",
       "       0.18381667, 0.18301693, 0.18094969, 0.17968641, 0.17967893,\n",
       "       0.17572226, 0.17556198, 0.17514131, 0.17500891, 0.17206685,\n",
       "       0.17194371, 0.17133412, 0.16991054, 0.16833652, 0.16828134,\n",
       "       0.16747107, 0.16564858, 0.16541414, 0.16464117, 0.16282444,\n",
       "       0.16255139, 0.16171407, 0.15925214, 0.156759  , 0.15659467,\n",
       "       0.1563763 , 0.15632868, 0.15568639, 0.15552948, 0.1548503 ,\n",
       "       0.15447374, 0.15430448, 0.15417762, 0.15382299, 0.15349632,\n",
       "       0.15340138, 0.15332557, 0.15083218, 0.14914382, 0.14854009,\n",
       "       0.14848336, 0.14846791, 0.1468217 , 0.14575208, 0.14552714,\n",
       "       0.14374732, 0.14335862, 0.14304034, 0.14265328, 0.13908587,\n",
       "       0.13827461, 0.1381929 , 0.13811916, 0.13587817, 0.13574499,\n",
       "       0.13467545, 0.13436552, 0.13332923, 0.13230423, 0.13135358,\n",
       "       0.13129183, 0.13020253, 0.12988274, 0.12927155, 0.1284731 ,\n",
       "       0.12776349, 0.12640937, 0.12620361, 0.12513147, 0.12489009,\n",
       "       0.1248133 , 0.12368582, 0.12343452, 0.12273572, 0.12255312,\n",
       "       0.12228005, 0.12164174, 0.12148488, 0.12104995, 0.12078479,\n",
       "       0.12071782, 0.12000945, 0.11899047, 0.11860186, 0.1178929 ,\n",
       "       0.1159945 , 0.11465353, 0.11287655, 0.11214918, 0.10976383,\n",
       "       0.10962662, 0.10940424, 0.10888934, 0.10876987, 0.10834121,\n",
       "       0.10759185, 0.10732126, 0.10656546, 0.10619465, 0.10379284,\n",
       "       0.1031025 , 0.10162569, 0.08631647, 0.07952817, 0.07844761,\n",
       "       0.07841673, 0.07320595, 0.06287292, 0.06032186, 0.05680301,\n",
       "       0.05377355])"
      ]
     },
     "execution_count": 88,
     "metadata": {},
     "output_type": "execute_result"
    }
   ],
   "source": [
    "thresholds"
   ]
  },
  {
   "cell_type": "code",
   "execution_count": 89,
   "id": "6e049bf9",
   "metadata": {},
   "outputs": [
    {
     "data": {
      "image/png": "[encoded data removed]",
      "text/plain": [
       "<Figure size 432x288 with 1 Axes>"
      ]
     },
     "metadata": {
      "needs_background": "light"
     },
     "output_type": "display_data"
    }
   ],
   "source": [
    "import matplotlib.pyplot as plt\n",
    "from sklearn.metrics import roc_curve,roc_auc_score\n",
    "%matplotlib inline\n",
    "tpr,fpr,thresholds = roc_curve(y_test,lr.predict_proba(x_test)[:,1],drop_intermediate=False)\n",
    "plt.xlim([0.0, 1.0])\n",
    "plt.ylim([0.0, 1.0])\n",
    "plt.title('ROC curve for titanic disaster classifier')\n",
    "plt.xlabel('False Positive Rate (1 - Specificity)')\n",
    "plt.ylabel('True Positive Rate (Sensitivity)')\n",
    "plt.plot(fpr, tpr, color='yellow', lw=6)\n",
    "plt.show()"
   ]
  },
  {
   "cell_type": "code",
   "execution_count": 90,
   "id": "70439cf7",
   "metadata": {},
   "outputs": [
    {
     "data": {
      "text/plain": [
       "0.8518571428571428"
      ]
     },
     "execution_count": 90,
     "metadata": {},
     "output_type": "execute_result"
    }
   ],
   "source": [
    "roc_auc_score(y_test, lr.predict_proba(x_test)[:,1])"
   ]
  },
  {
   "cell_type": "markdown",
   "id": "adbe7bf2",
   "metadata": {},
   "source": [
    "**From the above roc_curve, we have seen that there is less accuary of data**"
   ]
  },
  {
   "cell_type": "code",
   "execution_count": null,
   "id": "a30b4dca",
   "metadata": {},
   "outputs": [],
   "source": []
  }
 ],
 "metadata": {
  "kernelspec": {
   "display_name": "Python 3 (ipykernel)",
   "language": "python",
   "name": "python3"
  },
  "language_info": {
   "codemirror_mode": {
    "name": "ipython",
    "version": 3
   },
   "file_extension": ".py",
   "mimetype": "text/x-python",
   "name": "python",
   "nbconvert_exporter": "python",
   "pygments_lexer": "ipython3",
   "version": "3.8.12"
  }
 },
 "nbformat": 4,
 "nbformat_minor": 5
}
